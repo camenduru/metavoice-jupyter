{
  "cells": [
    {
      "cell_type": "markdown",
      "metadata": {
        "id": "view-in-github"
      },
      "source": [
        "[![Open In Colab](https://colab.research.google.com/assets/colab-badge.svg)](https://colab.research.google.com/github/camenduru/metavoice-jupyter/blob/main/metavoice_jupyter.ipynb)"
      ]
    },
    {
      "cell_type": "code",
      "execution_count": null,
      "metadata": {},
      "outputs": [],
      "source": [
        "%cd /content\n",
        "!git clone -b dev https://github.com/camenduru/metavoice-src\n",
        "%cd /content/metavoice-src\n",
        "!pip -q install -e .\n",
        "!pip install tiktoken audiocraft ninja flash-attn tyro deepfilternet\n",
        "\n",
        "import threading\n",
        "import subprocess\n",
        "\n",
        "def run_command_in_thread(command):\n",
        "    subprocess.run(command, shell=True)\n",
        "\n",
        "command = 'cd /content/metavoice-src && python fam/llm/serving.py --huggingface_repo_id=\"metavoiceio/metavoice-1B-v0.1\"'\n",
        "\n",
        "thread = threading.Thread(target=run_command_in_thread, args=(command,))\n",
        "thread.start()\n",
        "\n",
        "thread.join()\n",
        "\n",
        "%cd /content/metavoice-src/fam/ui\n",
        "!python app.py"
      ]
    }
  ],
  "metadata": {
    "accelerator": "GPU",
    "colab": {
      "gpuType": "T4",
      "provenance": []
    },
    "kernelspec": {
      "display_name": "Python 3",
      "name": "python3"
    },
    "language_info": {
      "name": "python"
    }
  },
  "nbformat": 4,
  "nbformat_minor": 0
}
